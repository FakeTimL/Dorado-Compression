{
 "cells": [
  {
   "cell_type": "code",
   "execution_count": 69,
   "id": "535ad93c",
   "metadata": {},
   "outputs": [],
   "source": [
    "import pysam\n",
    "\n",
    "def compute_bam_accuracy(bam_path):\n",
    "  bam = pysam.AlignmentFile(bam_path, \"rb\")\n",
    "  accuracies = []\n",
    "\n",
    "  for read in bam:\n",
    "    if read.is_unmapped:\n",
    "      continue\n",
    "\n",
    "    nm = read.get_tag(\"NM\")  # edit distance\n",
    "    aln_len = read.query_alignment_length  # aligned length (excludes soft clips)\n",
    "    \n",
    "    if aln_len == 0:\n",
    "      continue\n",
    "    \n",
    "    acc = 1 - nm / aln_len\n",
    "    accuracies.append(acc)\n",
    "\n",
    "  bam.close()\n",
    "\n",
    "  if accuracies:\n",
    "    avg_acc = sum(accuracies) / len(accuracies)\n",
    "    print(f\"Average alignment accuracy: {avg_acc:.6f}\")\n",
    "    return avg_acc\n",
    "  else:\n",
    "    print(\"No aligned reads found.\")\n",
    "    return 0.0\n"
   ]
  },
  {
   "cell_type": "code",
   "execution_count": 72,
   "id": "8dc6fdae",
   "metadata": {},
   "outputs": [
    {
     "name": "stdout",
     "output_type": "stream",
     "text": [
      "Average alignment accuracy: 0.920452\n"
     ]
    },
    {
     "data": {
      "text/plain": [
       "0.9204516111431507"
      ]
     },
     "execution_count": 72,
     "metadata": {},
     "output_type": "execute_result"
    }
   ],
   "source": [
    "compute_bam_accuracy(\"/vol/bitbucket/bl1821/new1/hac.bam\")"
   ]
  },
  {
   "cell_type": "code",
   "execution_count": 71,
   "id": "7d572ed1",
   "metadata": {},
   "outputs": [],
   "source": [
    "import pysam\n",
    "\n",
    "def compute_bam_accuracy(bam_path):\n",
    "  def get_cigar_aln_length(cigar_tuples):\n",
    "    # CIGAR operation codes:\n",
    "    # 0: M (alignment match)\n",
    "    # 1: I (insertion to reference)\n",
    "    # 2: D (deletion from reference)\n",
    "    # 7: = (sequence match)\n",
    "    # 8: X (sequence mismatch)\n",
    "    aligned_ops = {0, 1, 2, 7, 8}\n",
    "    return sum(length for op, length in cigar_tuples if op in aligned_ops)\n",
    "\n",
    "  bam = pysam.AlignmentFile(bam_path, \"rb\")\n",
    "  accuracies = []\n",
    "\n",
    "  for read in bam:\n",
    "    if read.is_unmapped:\n",
    "      continue\n",
    "    if not read.has_tag(\"NM\") or read.cigartuples is None:\n",
    "      continue\n",
    "\n",
    "    nm = read.get_tag(\"NM\")\n",
    "    aln_len = get_cigar_aln_length(read.cigartuples)\n",
    "\n",
    "    if aln_len == 0:\n",
    "      continue\n",
    "\n",
    "    acc = 1 - nm / aln_len\n",
    "    accuracies.append(acc)\n",
    "\n",
    "  bam.close()\n",
    "\n",
    "  if accuracies:\n",
    "    avg_acc = sum(accuracies) / len(accuracies)\n",
    "    print(f\"Average alignment accuracy: {avg_acc:.6f}\")\n",
    "    return avg_acc\n",
    "  else:\n",
    "    print(\"No aligned reads with valid CIGAR/NM tags.\")\n",
    "    return 0.0\n"
   ]
  }
 ],
 "metadata": {
  "kernelspec": {
   "display_name": "pyenv",
   "language": "python",
   "name": "python3"
  },
  "language_info": {
   "codemirror_mode": {
    "name": "ipython",
    "version": 3
   },
   "file_extension": ".py",
   "mimetype": "text/x-python",
   "name": "python",
   "nbconvert_exporter": "python",
   "pygments_lexer": "ipython3",
   "version": "3.10.0"
  }
 },
 "nbformat": 4,
 "nbformat_minor": 5
}
