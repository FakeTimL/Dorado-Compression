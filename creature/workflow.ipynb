{
 "cells": [
  {
   "cell_type": "code",
   "execution_count": 1,
   "id": "d16ff6e7",
   "metadata": {},
   "outputs": [],
   "source": [
    "# import subprocess\n",
    "import encode as ec\n",
    "from models import speeds, model_paths, dorado\n",
    "from IPython.display import Markdown, display\n",
    "bash = lambda commands: display(Markdown(\"```bash\\n\" + ' && \\n'.join(commands) + \"\\n```\"))\n",
    "\n",
    "data_dir = 'pruned_out'\n",
    "# def run(command, **kwargs):\n",
    "#   return subprocess.run(command, check=True, cwd=data_dir, **kwargs)"
   ]
  },
  {
   "cell_type": "markdown",
   "id": "324b101a",
   "metadata": {},
   "source": [
    "We prepare data by using Jasmine's script to obtain `data_nuc.txt` encoded into DNA nucleotides under the repository, then convert into `sample.fasta` under data directory"
   ]
  },
  {
   "cell_type": "code",
   "execution_count": 82,
   "id": "fbc75b35",
   "metadata": {},
   "outputs": [
    {
     "data": {
      "text/plain": [
       "'perfect_out/sample.fasta'"
      ]
     },
     "execution_count": 82,
     "metadata": {},
     "output_type": "execute_result"
    }
   ],
   "source": [
    "data_src_dir = 'dna_archival_storage/encoding_data'\n",
    "\n",
    "ec.ascii_to_binary(f'{data_src_dir}/data.txt', f'{data_src_dir}/data_bin.txt')\n",
    "ec.binary_to_nt(f'{data_src_dir}/data_bin.txt', f'{data_src_dir}/data_nuc.txt')\n",
    "\n",
    "with open(f'{data_src_dir}/data_nuc.txt', \"r\") as infile:\n",
    "  sequence = \"\".join(line.strip() for line in infile if line.strip())\n",
    "\n",
    "with open(f'{data_dir}/sample.fasta', \"w\") as outfile:\n",
    "  outfile.write(\">a_tale_of_two_cities\\n\")\n",
    "  outfile.write(sequence + \"\\n\")\n",
    "  # for i in range(0, len(sequence), 60):\n",
    "  #   outfile.write(sequence[i:i+60] + \"\\n\")\n",
    "\n",
    "f'{data_dir}/sample.fasta'"
   ]
  },
  {
   "cell_type": "markdown",
   "id": "7139afd4",
   "metadata": {},
   "source": [
    "(Deprecated) ~~We use the `Seq2Squiggle` library to obtain the pod5 prediction in `sample.pod5`~~"
   ]
  },
  {
   "cell_type": "code",
   "execution_count": 73,
   "id": "f81aae18",
   "metadata": {},
   "outputs": [],
   "source": [
    "# run([\n",
    "#   \"seq2squiggle\", \"predict\", \"sample.fasta\",\n",
    "#   \"-o\", \"sample.pod5\",\n",
    "#   \"--profile\", \"dna-r10-min\",\n",
    "#   \"--read-input\"\n",
    "# ])\n",
    "# bash([\"seq2squiggle predict sample.fasta -o sample.pod5 --profile dna-r10-min --read-input\"])"
   ]
  },
  {
   "cell_type": "markdown",
   "id": "1681372a",
   "metadata": {},
   "source": [
    "We use the `squigulator` library (as a sanity check) to output `sample.slow5`"
   ]
  },
  {
   "cell_type": "code",
   "execution_count": 3,
   "id": "e9cbf0fb",
   "metadata": {},
   "outputs": [
    {
     "data": {
      "text/markdown": [
       "```bash\n",
       "squigulator sample.fasta -x dna-r10-prom -o sample.slow5 --full-contigs\n",
       "```"
      ],
      "text/plain": [
       "<IPython.core.display.Markdown object>"
      ]
     },
     "metadata": {},
     "output_type": "display_data"
    }
   ],
   "source": [
    "bash([\"squigulator sample.fasta -x dna-r10-prom -o sample.slow5 --full-contigs\"])"
   ]
  },
  {
   "cell_type": "markdown",
   "id": "b4833fe5",
   "metadata": {},
   "source": [
    "Before converting to `sample.pod5`, use the below code to correctly replace the read_id of the `slow5` file with a uuid as per `blue-crab`'s requirement:"
   ]
  },
  {
   "cell_type": "code",
   "execution_count": 83,
   "id": "2529b969",
   "metadata": {},
   "outputs": [],
   "source": [
    "import uuid\n",
    "import os\n",
    "\n",
    "input_file = f\"{data_dir}/sample.slow5\"\n",
    "temp_file = f\"{data_dir}/sample.slow5.tmp\"\n",
    "\n",
    "with open(input_file, \"r\") as fin, open(temp_file, \"w\") as fout:\n",
    "  for line in fin:\n",
    "    if line.startswith(\"#\") or line.startswith(\"@\"):\n",
    "      fout.write(line)\n",
    "    else:\n",
    "      parts = line.strip().split('\\t')\n",
    "      parts[0] = str(uuid.uuid4())\n",
    "      fout.write('\\t'.join(parts) + '\\n')\n",
    "\n",
    "os.replace(temp_file, input_file)  # Atomically replace original file"
   ]
  },
  {
   "cell_type": "code",
   "execution_count": 79,
   "id": "a253e12e",
   "metadata": {},
   "outputs": [
    {
     "data": {
      "text/markdown": [
       "```bash\n",
       "blue-crab s2p sample.slow5 -o sample.pod5\n",
       "```"
      ],
      "text/plain": [
       "<IPython.core.display.Markdown object>"
      ]
     },
     "metadata": {},
     "output_type": "display_data"
    }
   ],
   "source": [
    "bash([\"blue-crab s2p sample.slow5 -o sample.pod5\"])"
   ]
  },
  {
   "cell_type": "markdown",
   "id": "ed65c5d6",
   "metadata": {},
   "source": [
    "We use `dorado` to basecall into `sample.fastq` using the 3 models we have profiled"
   ]
  },
  {
   "cell_type": "code",
   "execution_count": 19,
   "id": "bdcef4d3",
   "metadata": {},
   "outputs": [
    {
     "data": {
      "text/markdown": [
       "```bash\n",
       "dorado basecaller $FAST sample.pod5 --emit-fastq > fast.fastq && \n",
       "dorado basecaller $HAC sample.pod5 --emit-fastq > hac.fastq && \n",
       "dorado basecaller $SUP sample.pod5 --emit-fastq > sup.fastq\n",
       "```"
      ],
      "text/plain": [
       "<IPython.core.display.Markdown object>"
      ]
     },
     "metadata": {},
     "output_type": "display_data"
    }
   ],
   "source": [
    "# def basecall(speed):\n",
    "#   with open(f\"{data_dir}/{speed}.fastq\", \"w\") as out:\n",
    "#     run(\n",
    "#       [dorado, \"basecaller\", model_paths[speed], \"sample.pod5\", \"--emit-fastq\"],\n",
    "#       stdout=out,\n",
    "#     )\n",
    "\n",
    "# basecall('fast')\n",
    "# basecall('hac')\n",
    "# basecall('sup')\n",
    "\n",
    "bash([f'dorado basecaller ${speed.upper()} sample.pod5 --emit-fastq > {speed}.fastq' for speed in speeds])"
   ]
  },
  {
   "cell_type": "markdown",
   "id": "5b3d3ee5",
   "metadata": {},
   "source": [
    "We can now use `dorado`'s aligner to align the `sample.fasta` and `.fastq` files"
   ]
  },
  {
   "cell_type": "code",
   "execution_count": 22,
   "id": "67388ac7",
   "metadata": {},
   "outputs": [
    {
     "data": {
      "text/markdown": [
       "```bash\n",
       "dorado aligner sample.fasta fast.fastq > fast.bam && \n",
       "dorado aligner sample.fasta hac.fastq > hac.bam && \n",
       "dorado aligner sample.fasta sup.fastq > sup.bam\n",
       "```"
      ],
      "text/plain": [
       "<IPython.core.display.Markdown object>"
      ]
     },
     "metadata": {},
     "output_type": "display_data"
    }
   ],
   "source": [
    "# for speed in speeds:\n",
    "#   with open(f'{data_dir}/{speed}.bam', 'w') as out:\n",
    "#     run(\n",
    "#       [dorado, \"aligner\", \"sample.fasta\", f'{speed}.fastq'],\n",
    "#       stdout=out\n",
    "#     )\n",
    "\n",
    "bash([f'dorado aligner sample.fasta {speed}.fastq > {speed}.bam' for speed in speeds])"
   ]
  },
  {
   "cell_type": "markdown",
   "id": "790b6ecb",
   "metadata": {},
   "source": [
    "We then use `dorado`'s summary utility to obtain the basecalling accuracy measures"
   ]
  },
  {
   "cell_type": "code",
   "execution_count": 21,
   "id": "6991aa71",
   "metadata": {},
   "outputs": [
    {
     "data": {
      "text/markdown": [
       "```bash\n",
       "dorado summary fast.bam > fast.tsv && \n",
       "dorado summary hac.bam > hac.tsv && \n",
       "dorado summary sup.bam > sup.tsv\n",
       "```"
      ],
      "text/plain": [
       "<IPython.core.display.Markdown object>"
      ]
     },
     "metadata": {},
     "output_type": "display_data"
    }
   ],
   "source": [
    "# for speed in speeds:\n",
    "#   with open(f'{data_dir}/{speed}.tsv', 'w') as out:\n",
    "#     run(\n",
    "#       [dorado, \"summary\", f'{speed}.bam'],\n",
    "#       stdout=out\n",
    "#     )\n",
    "\n",
    "bash([f'dorado summary {speed}.bam > {speed}.tsv' for speed in speeds])"
   ]
  },
  {
   "cell_type": "markdown",
   "id": "f206a466",
   "metadata": {},
   "source": [
    "We collect the summary results and put into a markdown table"
   ]
  },
  {
   "cell_type": "code",
   "execution_count": 5,
   "id": "36c39eb0",
   "metadata": {},
   "outputs": [],
   "source": [
    "from IPython.display import Markdown, display\n",
    "\n",
    "def tsv_dict(speed):\n",
    "  with open(f'{data_dir}/{speed}.tsv', 'r') as f:\n",
    "    a = f.readlines()\n",
    "  return dict(zip(a[0].split(),a[1].split()))\n",
    "\n",
    "def make_table(data, markdown=True):\n",
    "  # row_headers = sorted({key for inner in data.values() for key in inner})\n",
    "  row_headers = [\n",
    "    \"alignment_accuracy\", \"alignment_identity\", \n",
    "    \"alignment_genome_start\", \"alignment_genome_end\", \"alignment_strand_start\", \"alignment_strand_end\", \"alignment_strand_coverage\",\n",
    "    \"alignment_length\", \"alignment_num_aligned\", \"alignment_num_correct\", \"alignment_num_deletions\", \"alignment_num_insertions\", \"alignment_num_substitutions\",\n",
    "    ]\n",
    "\n",
    "  # Build markdown table\n",
    "  header_row = f\"| Metric | {' | '.join(data.keys())} |\"\n",
    "  separator_row = f\"|--------|{'|'.join(['--------'] * len(data))}|\"\n",
    "  data_rows = [\n",
    "    f\"| {key} | {' | '.join(str(data[name].get(key, '')) for name in data)} |\"\n",
    "    for key in row_headers\n",
    "  ]\n",
    "\n",
    "  table_md = \"\\n\".join([header_row, separator_row] + data_rows)\n",
    "\n",
    "  if markdown:\n",
    "    display(Markdown(table_md))\n",
    "  else:\n",
    "    print(table_md)"
   ]
  },
  {
   "cell_type": "code",
   "execution_count": 10,
   "id": "8f95218a",
   "metadata": {},
   "outputs": [
    {
     "data": {
      "text/markdown": [
       "| Metric | fast | hac | sup |\n",
       "|--------|--------|--------|--------|\n",
       "| alignment_accuracy | 0.833501 | 0.873873 | 0.910638 |\n",
       "| alignment_identity | 0.924108 | 0.942866 | 0.95575 |\n",
       "| alignment_genome_start | 7 | 7 | 8 |\n",
       "| alignment_genome_end | 3106830 | 3106840 | 3106840 |\n",
       "| alignment_strand_start | 0 | 0 | 0 |\n",
       "| alignment_strand_end | 2894020 | 2961899 | 3063253 |\n",
       "| alignment_strand_coverage | 0.999996 | 0.999998 | 0.999999 |\n",
       "| alignment_length | 3155097 | 3149601 | 3159611 |\n",
       "| alignment_num_aligned | 2845746 | 2919131 | 3010474 |\n",
       "| alignment_num_correct | 2629776 | 2752350 | 2877261 |\n",
       "| alignment_num_deletions | 261077 | 187702 | 96358 |\n",
       "| alignment_num_insertions | 48274 | 42768 | 52779 |\n",
       "| alignment_num_substitutions | 215970 | 166781 | 133213 |"
      ],
      "text/plain": [
       "<IPython.core.display.Markdown object>"
      ]
     },
     "metadata": {},
     "output_type": "display_data"
    }
   ],
   "source": [
    "data = {speed: tsv_dict(speed) for speed in speeds}\n",
    "make_table(data)"
   ]
  },
  {
   "cell_type": "markdown",
   "id": "6dc4345e",
   "metadata": {},
   "source": [
    "We observe that the hac model is the most stable. We perform one-shot pruning (in `prune_new.ipynb`) with different sparsities and evaluate their performances with the following workflow"
   ]
  },
  {
   "cell_type": "code",
   "execution_count": 3,
   "id": "15868c90",
   "metadata": {},
   "outputs": [
    {
     "data": {
      "text/markdown": [
       "```bash\n",
       "dorado basecaller /vol/bitbucket/bl1821/pruned_models/sparse_0.0 sample.pod5 --emit-fastq > sparse_0.0.fastq && \n",
       "dorado basecaller /vol/bitbucket/bl1821/pruned_models/sparse_0.01 sample.pod5 --emit-fastq > sparse_0.01.fastq && \n",
       "dorado basecaller /vol/bitbucket/bl1821/pruned_models/sparse_0.05 sample.pod5 --emit-fastq > sparse_0.05.fastq && \n",
       "dorado basecaller /vol/bitbucket/bl1821/pruned_models/sparse_0.1 sample.pod5 --emit-fastq > sparse_0.1.fastq && \n",
       "dorado basecaller /vol/bitbucket/bl1821/pruned_models/sparse_0.2 sample.pod5 --emit-fastq > sparse_0.2.fastq && \n",
       "dorado basecaller /vol/bitbucket/bl1821/pruned_models/sparse_0.3 sample.pod5 --emit-fastq > sparse_0.3.fastq && \n",
       "dorado basecaller /vol/bitbucket/bl1821/pruned_models/sparse_0.4 sample.pod5 --emit-fastq > sparse_0.4.fastq && \n",
       "dorado aligner sample.fasta sparse_0.0.fastq > sparse_0.0.bam && \n",
       "dorado aligner sample.fasta sparse_0.01.fastq > sparse_0.01.bam && \n",
       "dorado aligner sample.fasta sparse_0.05.fastq > sparse_0.05.bam && \n",
       "dorado aligner sample.fasta sparse_0.1.fastq > sparse_0.1.bam && \n",
       "dorado aligner sample.fasta sparse_0.2.fastq > sparse_0.2.bam && \n",
       "dorado aligner sample.fasta sparse_0.3.fastq > sparse_0.3.bam && \n",
       "dorado aligner sample.fasta sparse_0.4.fastq > sparse_0.4.bam && \n",
       "dorado summary sparse_0.0.bam > sparse_0.0.tsv && \n",
       "dorado summary sparse_0.01.bam > sparse_0.01.tsv && \n",
       "dorado summary sparse_0.05.bam > sparse_0.05.tsv && \n",
       "dorado summary sparse_0.1.bam > sparse_0.1.tsv && \n",
       "dorado summary sparse_0.2.bam > sparse_0.2.tsv && \n",
       "dorado summary sparse_0.3.bam > sparse_0.3.tsv && \n",
       "dorado summary sparse_0.4.bam > sparse_0.4.tsv\n",
       "```"
      ],
      "text/plain": [
       "<IPython.core.display.Markdown object>"
      ]
     },
     "metadata": {},
     "output_type": "display_data"
    }
   ],
   "source": [
    "test_model_dir = '/vol/bitbucket/bl1821/pruned_models'\n",
    "sparsities = [0.0, 0.01, 0.05, 0.1, 0.2, 0.3, 0.4]\n",
    "pruned_models = [f'sparse_{s}' for s in sparsities]\n",
    "\n",
    "bash(\n",
    "  [f'dorado basecaller {test_model_dir}/{model} sample.pod5 --emit-fastq > {model}.fastq' for model in pruned_models] +\n",
    "  [f'dorado aligner sample.fasta {model}.fastq > {model}.bam' for model in pruned_models] + \n",
    "  [f'dorado summary {model}.bam > {model}.tsv' for model in pruned_models]\n",
    ")"
   ]
  },
  {
   "cell_type": "code",
   "execution_count": 6,
   "id": "aa9343ea",
   "metadata": {},
   "outputs": [
    {
     "data": {
      "text/markdown": [
       "| Metric | sparse_0.0 | sparse_0.01 | sparse_0.05 | sparse_0.1 | sparse_0.2 | sparse_0.3 | sparse_0.4 |\n",
       "|--------|--------|--------|--------|--------|--------|--------|--------|\n",
       "| alignment_accuracy | 0.910638 | 0.910607 | 0.91101 | 0.912798 | 0.91608 | 0.795533 | 0 |\n",
       "| alignment_identity | 0.95575 | 0.955668 | 0.956055 | 0.956132 | 0.95669 | 0.880613 | 0 |\n",
       "| alignment_genome_start | 8 | 8 | 8 | 8 | 8 | 448431 | -1 |\n",
       "| alignment_genome_end | 3106840 | 3106840 | 3106840 | 3106840 | 3106840 | 2881340 | -1 |\n",
       "| alignment_strand_start | 0 | 0 | 0 | 0 | 0 | 416594 | -1 |\n",
       "| alignment_strand_end | 3063253 | 3063204 | 3062044 | 3062846 | 3044361 | 2674383 | -1 |\n",
       "| alignment_strand_coverage | 0.999999 | 0.999999 | 0.999999 | 0.999999 | 0.999999 | 0.78278 | 0 |\n",
       "| alignment_length | 3159611 | 3159506 | 3158854 | 3156366 | 3142288 | 2464397 | 0 |\n",
       "| alignment_num_aligned | 3010474 | 3010530 | 3010022 | 3013312 | 3008905 | 2226301 | 0 |\n",
       "| alignment_num_correct | 2877261 | 2877067 | 2877748 | 2881124 | 2878588 | 1960509 | 0 |\n",
       "| alignment_num_deletions | 96358 | 96302 | 96810 | 93520 | 97927 | 206608 | 0 |\n",
       "| alignment_num_insertions | 52779 | 52674 | 52022 | 49534 | 35456 | 31488 | 0 |\n",
       "| alignment_num_substitutions | 133213 | 133463 | 132274 | 132188 | 130317 | 265792 | 0 |"
      ],
      "text/plain": [
       "<IPython.core.display.Markdown object>"
      ]
     },
     "metadata": {},
     "output_type": "display_data"
    }
   ],
   "source": [
    "data = {model: tsv_dict(model) for model in pruned_models}\n",
    "make_table(data)"
   ]
  },
  {
   "cell_type": "markdown",
   "id": "75e85224",
   "metadata": {},
   "source": [
    "We then perform iterative pruning"
   ]
  },
  {
   "cell_type": "code",
   "execution_count": 8,
   "id": "c08b86f0",
   "metadata": {},
   "outputs": [
    {
     "data": {
      "text/markdown": [
       "```bash\n",
       "dorado basecaller /vol/bitbucket/bl1821/pruned_models/step_0 sample.pod5 --emit-fastq > step_0.fastq && \n",
       "dorado basecaller /vol/bitbucket/bl1821/pruned_models/step_1 sample.pod5 --emit-fastq > step_1.fastq && \n",
       "dorado basecaller /vol/bitbucket/bl1821/pruned_models/step_2 sample.pod5 --emit-fastq > step_2.fastq && \n",
       "dorado basecaller /vol/bitbucket/bl1821/pruned_models/step_3 sample.pod5 --emit-fastq > step_3.fastq && \n",
       "dorado aligner sample.fasta step_0.fastq > step_0.bam && \n",
       "dorado aligner sample.fasta step_1.fastq > step_1.bam && \n",
       "dorado aligner sample.fasta step_2.fastq > step_2.bam && \n",
       "dorado aligner sample.fasta step_3.fastq > step_3.bam && \n",
       "dorado summary step_0.bam > step_0.tsv && \n",
       "dorado summary step_1.bam > step_1.tsv && \n",
       "dorado summary step_2.bam > step_2.tsv && \n",
       "dorado summary step_3.bam > step_3.tsv\n",
       "```"
      ],
      "text/plain": [
       "<IPython.core.display.Markdown object>"
      ]
     },
     "metadata": {},
     "output_type": "display_data"
    }
   ],
   "source": [
    "iter_pruned_models = [f'step_{i}' for i in range(0,4)]\n",
    "\n",
    "bash(\n",
    "  [f'dorado basecaller {test_model_dir}/{model} sample.pod5 --emit-fastq > {model}.fastq' for model in iter_pruned_models] +\n",
    "  [f'dorado aligner sample.fasta {model}.fastq > {model}.bam' for model in iter_pruned_models] +\n",
    "  [f'dorado summary {model}.bam > {model}.tsv' for model in iter_pruned_models]\n",
    ")"
   ]
  },
  {
   "cell_type": "code",
   "execution_count": 9,
   "id": "9790fd00",
   "metadata": {},
   "outputs": [
    {
     "data": {
      "text/markdown": [
       "| Metric | step_0 | step_1 | step_2 | step_3 |\n",
       "|--------|--------|--------|--------|--------|\n",
       "| alignment_accuracy | 0.910627 | 0.91277 | 0.91277 | 0.91277 |\n",
       "| alignment_identity | 0.955717 | 0.956137 | 0.956137 | 0.956137 |\n",
       "| alignment_genome_start | 8 | 8 | 8 | 8 |\n",
       "| alignment_genome_end | 3106840 | 3106840 | 3106840 | 3106840 |\n",
       "| alignment_strand_start | 0 | 0 | 0 | 0 |\n",
       "| alignment_strand_end | 3063309 | 3062755 | 3062755 | 3062755 |\n",
       "| alignment_strand_coverage | 0.999999 | 0.999999 | 0.999999 | 0.999999 |\n",
       "| alignment_length | 3159604 | 3156375 | 3156375 | 3156375 |\n",
       "| alignment_num_aligned | 3010537 | 3013212 | 3013212 | 3013212 |\n",
       "| alignment_num_correct | 2877221 | 2881045 | 2881045 | 2881045 |\n",
       "| alignment_num_deletions | 96295 | 93620 | 93620 | 93620 |\n",
       "| alignment_num_insertions | 52772 | 49543 | 49543 | 49543 |\n",
       "| alignment_num_substitutions | 133316 | 132167 | 132167 | 132167 |"
      ],
      "text/plain": [
       "<IPython.core.display.Markdown object>"
      ]
     },
     "metadata": {},
     "output_type": "display_data"
    }
   ],
   "source": [
    "data = {model: tsv_dict(model) for model in iter_pruned_models}\n",
    "make_table(data)"
   ]
  },
  {
   "cell_type": "markdown",
   "id": "67afc3f7",
   "metadata": {},
   "source": [
    "# The code below are legacy"
   ]
  },
  {
   "cell_type": "code",
   "execution_count": 24,
   "id": "f4f967f3",
   "metadata": {},
   "outputs": [
    {
     "data": {
      "text/plain": [
       "3106848"
      ]
     },
     "execution_count": 24,
     "metadata": {},
     "output_type": "execute_result"
    }
   ],
   "source": [
    "# Assuming the .fasta file contain a single read\n",
    "\n",
    "def read_fasta(file_path):\n",
    "  sequence = \"\"\n",
    "  with open(file_path, 'r') as file:\n",
    "    for line in file:\n",
    "      line = line.strip()\n",
    "      if line.startswith(\">\"):\n",
    "        continue  # Skip header\n",
    "      sequence += line\n",
    "  return sequence\n",
    "\n",
    "ref_sequence = read_fasta(\"test/sample.fasta\")\n",
    "len(ref_sequence)"
   ]
  },
  {
   "cell_type": "code",
   "execution_count": 34,
   "id": "8c2ad91f",
   "metadata": {},
   "outputs": [
    {
     "data": {
      "text/plain": [
       "(3055325, 3055325, 11.4038)"
      ]
     },
     "execution_count": 34,
     "metadata": {},
     "output_type": "execute_result"
    }
   ],
   "source": [
    "def read_fastq(file_path):\n",
    "  with open(file_path, 'r') as file:\n",
    "    header = file.readline().strip()\n",
    "    seq = file.readline().strip()\n",
    "    _ = file.readline()\n",
    "    qual = file.readline().strip()\n",
    "\n",
    "    read = {\n",
    "      \"sequence\": seq,\n",
    "      \"quality\": qual,\n",
    "      \"avg_qscore\": float(header.split(\"qs:f:\")[1].split()[0])\n",
    "    }\n",
    "  return read\n",
    "\n",
    "simulated_read = read_fastq(\"test/sample1.fastq\")\n",
    "len(simulated_read['sequence']), len(simulated_read['quality']), simulated_read['avg_qscore']"
   ]
  },
  {
   "cell_type": "code",
   "execution_count": null,
   "id": "aaceadfc",
   "metadata": {},
   "outputs": [
    {
     "name": "stdout",
     "output_type": "stream",
     "text": [
      "Accuracy: 48.96%\n"
     ]
    }
   ],
   "source": [
    "import edlib\n",
    "\n",
    "ref = \"ACTGACTGACTGACTGACTGACTGACTGACTGACTGACTGACTGACTGACTGACTGACTGACTGACTGACTGACTGACTGACTGACTGACTGACTG\"\n",
    "simulated = \"CTCGCTCGCTCGCTCGCTCGCTCGCTCGCTTCGCTCGCTCGCTCGCTCGCTCGCTCGCTCGCTCGCTCGCTCGCTTCGCTCCGCTCGAC\"\n",
    "\n",
    "# Align and compute identity\n",
    "result = edlib.align(ref, simulated, task=\"path\")\n",
    "identity = (len(ref) - result[\"editDistance\"]) / len(ref) * 100\n",
    "print(f\"Accuracy: {identity:.2f}%\")"
   ]
  },
  {
   "cell_type": "code",
   "execution_count": 15,
   "id": "e0a8796c",
   "metadata": {},
   "outputs": [
    {
     "data": {
      "text/plain": [
       "40.396"
      ]
     },
     "execution_count": 15,
     "metadata": {},
     "output_type": "execute_result"
    }
   ],
   "source": [
    "import edlib\n",
    "\n",
    "def calculate_accuracy(ref_seq, simulated_seq):\n",
    "    alignment = edlib.align(ref_seq, simulated_seq, task=\"path\")\n",
    "    matches = len(ref_seq) - alignment[\"editDistance\"]\n",
    "    identity = (matches / len(ref_seq)) * 100\n",
    "    return identity\n",
    "\n",
    "ref_seq = ref_sequences[\"a_tale_of_two_cities\"]\n",
    "simulated_seq = simulated_reads[\"93e5f2d6-797e-48a8-9357-174bfb09e38e\"][\"sequence\"]\n",
    "accuracy = calculate_accuracy(ref_seq, simulated_seq)\n",
    "accuracy"
   ]
  },
  {
   "cell_type": "code",
   "execution_count": 17,
   "id": "0f37c6af",
   "metadata": {},
   "outputs": [],
   "source": [
    "import uuid\n",
    "\n",
    "input_file = f\"{data_dir}/sample.slow5\"\n",
    "output_file = f\"{data_dir}/fixed_sample.slow5\"\n",
    "\n",
    "with open(input_file) as fin, open(output_file, \"w\") as fout:\n",
    "  for line in fin:\n",
    "    if line.startswith(\"#\") or line.startswith(\"@\"):\n",
    "      fout.write(line)\n",
    "    else:\n",
    "      parts = line.strip().split('\\t')\n",
    "      parts[0] = str(uuid.uuid4())  # replace read_id with UUID\n",
    "      fout.write('\\t'.join(parts) + '\\n')\n"
   ]
  },
  {
   "cell_type": "code",
   "execution_count": null,
   "id": "072e4c99",
   "metadata": {},
   "outputs": [],
   "source": []
  }
 ],
 "metadata": {
  "kernelspec": {
   "display_name": "pyenv",
   "language": "python",
   "name": "python3"
  },
  "language_info": {
   "codemirror_mode": {
    "name": "ipython",
    "version": 3
   },
   "file_extension": ".py",
   "mimetype": "text/x-python",
   "name": "python",
   "nbconvert_exporter": "python",
   "pygments_lexer": "ipython3",
   "version": "3.10.0"
  }
 },
 "nbformat": 4,
 "nbformat_minor": 5
}
