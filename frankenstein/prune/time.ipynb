{
 "cells": [
  {
   "cell_type": "code",
   "execution_count": 13,
   "id": "8675ab42",
   "metadata": {},
   "outputs": [],
   "source": [
    "from IPython.display import Markdown, display\n",
    "import re\n",
    "\n",
    "def extract(target):\n",
    "    summary = []\n",
    "\n",
    "    for model, log_path in target.items():\n",
    "        total_runtime = None\n",
    "        throughput = None\n",
    "\n",
    "        with open(log_path, 'r') as file:\n",
    "            for line in file:\n",
    "                # Extract total runtime in milliseconds\n",
    "                if \"Finished in (ms):\" in line:\n",
    "                    match = re.search(r\"Finished in \\(ms\\): (\\d+)\", line)\n",
    "                    if match:\n",
    "                        total_runtime = int(match.group(1)) / 1000  # Convert to seconds\n",
    "\n",
    "                # Extract throughput in samples per second\n",
    "                if \"Basecalled @ Samples/s:\" in line:\n",
    "                    match = re.search(r\"Basecalled @ Samples/s: ([\\deE\\+\\-\\.]+)\", line)\n",
    "                    if match:\n",
    "                        throughput = float(match.group(1))\n",
    "\n",
    "        if total_runtime is not None and throughput is not None:\n",
    "            summary.append({\n",
    "                'Model': model,\n",
    "                'Total Runtime (s)': total_runtime,\n",
    "                'Throughput (Samples/s)': throughput\n",
    "            })\n",
    "        else:\n",
    "            print(f\"Warning: Missing data for model {model} in log {log_path}\")\n",
    "\n",
    "    # Generate Markdown table\n",
    "    md_table = \"| Model | Total Runtime (s) | Throughput (Samples/s) |\\n\"\n",
    "    md_table += \"|-------|-------------------|-------------------------|\\n\"\n",
    "    for entry in summary:\n",
    "        md_table += f\"| {entry['Model']} | {entry['Total Runtime (s)']:.3f} | {entry['Throughput (Samples/s)']:.6e} |\\n\"\n",
    "\n",
    "    display(Markdown(md_table))\n"
   ]
  },
  {
   "cell_type": "markdown",
   "id": "b4945eae",
   "metadata": {},
   "source": [
    "# Base models"
   ]
  },
  {
   "cell_type": "code",
   "execution_count": 15,
   "id": "a782055f",
   "metadata": {},
   "outputs": [
    {
     "data": {
      "text/markdown": [
       "| Model | Total Runtime (s) | Throughput (Samples/s) |\n",
       "|-------|-------------------|-------------------------|\n",
       "| sup | 97.001 | 4.164530e+05 |\n",
       "| frank | 252.978 | 1.596833e+05 |\n",
       "| je | 264.553 | 1.526967e+05 |\n"
      ],
      "text/plain": [
       "<IPython.core.display.Markdown object>"
      ]
     },
     "metadata": {},
     "output_type": "display_data"
    }
   ],
   "source": [
    "target = {m: f\"../models/{m}_test/sup.log\" for m in [\"sup\", \"frank\", \"je\"]}\n",
    "extract(target)"
   ]
  },
  {
   "cell_type": "markdown",
   "id": "c7642b6b",
   "metadata": {},
   "source": [
    "# One-shot models"
   ]
  },
  {
   "cell_type": "code",
   "execution_count": 16,
   "id": "c8298d27",
   "metadata": {},
   "outputs": [
    {
     "data": {
      "text/markdown": [
       "| Model | Total Runtime (s) | Throughput (Samples/s) |\n",
       "|-------|-------------------|-------------------------|\n",
       "| sparse_0.25_retrained | 258.739 | 1.561278e+05 |\n",
       "| sparse_0.4375_retrained | 254.481 | 1.587402e+05 |\n",
       "| sparse_0.578125_retrained | 258.976 | 1.559850e+05 |\n",
       "| sparse_0.68359375_retrained | 219.840 | 1.837535e+05 |\n",
       "| sparse_0.7626953125_retrained | 68.135 | 5.928870e+05 |\n",
       "| sparse_0.822021484375_retrained | 7.415 | 5.447924e+06 |\n",
       "| sparse_0.86651611328125_retrained | 7.816 | 5.168419e+06 |\n",
       "| sparse_0.8998870849609375_retrained | 7.615 | 5.304840e+06 |\n"
      ],
      "text/plain": [
       "<IPython.core.display.Markdown object>"
      ]
     },
     "metadata": {},
     "output_type": "display_data"
    }
   ],
   "source": [
    "target = {f\"sparse_{s}_retrained\": f\"one_shot/sparse_{s}_retrained/run.log\" for s in [1-0.75**a for a in range(1,9)]}\n",
    "extract(target)"
   ]
  },
  {
   "cell_type": "markdown",
   "id": "76a978bc",
   "metadata": {},
   "source": [
    "# Iterative models"
   ]
  },
  {
   "cell_type": "code",
   "execution_count": 18,
   "id": "001a45d0",
   "metadata": {},
   "outputs": [
    {
     "data": {
      "text/markdown": [
       "| Model | Total Runtime (s) | Throughput (Samples/s) |\n",
       "|-------|-------------------|-------------------------|\n",
       "| iter_1_retrained | 247.560 | 1.631781e+05 |\n",
       "| iter_2_retrained | 257.383 | 1.569504e+05 |\n",
       "| iter_3_retrained | 257.693 | 1.567616e+05 |\n",
       "| iter_4_retrained | 255.709 | 1.579779e+05 |\n",
       "| iter_5_retrained | 229.840 | 1.757586e+05 |\n",
       "| iter_6_retrained | 186.042 | 2.171357e+05 |\n",
       "| iter_7_retrained | 90.042 | 4.486391e+05 |\n",
       "| iter_8_retrained | 29.459 | 1.371274e+06 |\n"
      ],
      "text/plain": [
       "<IPython.core.display.Markdown object>"
      ]
     },
     "metadata": {},
     "output_type": "display_data"
    }
   ],
   "source": [
    "target = {f\"iter_{s}_retrained\": f\"iterative_0.25/iter_{s}_retrained/run.log\" for s in range(1,9)}\n",
    "extract(target)"
   ]
  },
  {
   "cell_type": "code",
   "execution_count": null,
   "id": "b5e87340",
   "metadata": {},
   "outputs": [],
   "source": []
  }
 ],
 "metadata": {
  "kernelspec": {
   "display_name": "fenv",
   "language": "python",
   "name": "python3"
  },
  "language_info": {
   "codemirror_mode": {
    "name": "ipython",
    "version": 3
   },
   "file_extension": ".py",
   "mimetype": "text/x-python",
   "name": "python",
   "nbconvert_exporter": "python",
   "pygments_lexer": "ipython3",
   "version": "3.10.0"
  }
 },
 "nbformat": 4,
 "nbformat_minor": 5
}
