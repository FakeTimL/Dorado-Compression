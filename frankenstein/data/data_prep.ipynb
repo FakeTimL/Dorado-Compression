{
 "cells": [
  {
   "cell_type": "code",
   "execution_count": 9,
   "id": "ee29f6d9",
   "metadata": {},
   "outputs": [],
   "source": [
    "from IPython.display import Markdown, display\n",
    "bash = lambda commands: display(Markdown(\"```bash\\n\" + ' && \\n'.join(commands) + \"\\n```\"))"
   ]
  },
  {
   "cell_type": "markdown",
   "id": "cf735029",
   "metadata": {},
   "source": [
    "We start by preparing all raw data from ASCII text into `.fasta` sequences. This step we use Jasmine's script:"
   ]
  },
  {
   "cell_type": "code",
   "execution_count": 8,
   "id": "38714e44",
   "metadata": {},
   "outputs": [],
   "source": [
    "import encode as ec\n",
    "\n",
    "data_src_dir = 'raw'\n",
    "books = {\n",
    "  \"atotc\": \"a_tale_of_two_cities\",\n",
    "  \"frank\": \"frankenstein\",\n",
    "  \"je\": \"jane_eyre\"\n",
    "}\n",
    "\n",
    "for book, title in books.items():\n",
    "  ec.ascii_to_binary(f'{data_src_dir}/{book}.txt', f'{data_src_dir}/{book}_bin.txt')\n",
    "  ec.binary_to_nt(f'{data_src_dir}/{book}_bin.txt', f'{data_src_dir}/{book}_nuc.txt')\n",
    "\n",
    "  with open(f'{data_src_dir}/{book}_nuc.txt', \"r\") as infile:\n",
    "    sequence = \"\".join(line.strip() for line in infile if line.strip())\n",
    "\n",
    "  with open(f'{book}.fasta', \"w\") as outfile:\n",
    "    outfile.write(f\"> {title}\\n\")\n",
    "    for i in range(0, len(sequence), 60):\n",
    "      outfile.write(sequence[i:i+60] + \"\\n\")"
   ]
  },
  {
   "cell_type": "markdown",
   "id": "18ecae4f",
   "metadata": {},
   "source": [
    "We evaluate models by running the basecall pipeline with ATOTC. We prepare the pod5 data using squigulator:"
   ]
  },
  {
   "cell_type": "code",
   "execution_count": 10,
   "id": "ca7097b7",
   "metadata": {},
   "outputs": [
    {
     "data": {
      "text/markdown": [
       "```bash\n",
       "squigulator atotc.fasta -x dna-r10-prom -o atotc.slow5 --full-contigs --ont-friendly yes --seed 42 && \n",
       "blue-crab s2p atotc.slow5 -o atotc.pod5 && \n",
       "rm -f atotc.slow5\n",
       "```"
      ],
      "text/plain": [
       "<IPython.core.display.Markdown object>"
      ]
     },
     "metadata": {},
     "output_type": "display_data"
    }
   ],
   "source": [
    "bash([\"squigulator atotc.fasta -x dna-r10-prom -o atotc.slow5 --full-contigs --ont-friendly yes --seed 42\",\n",
    "      \"blue-crab s2p atotc.slow5 -o atotc.pod5\",\n",
    "      \"rm -f atotc.slow5\"])"
   ]
  },
  {
   "cell_type": "markdown",
   "id": "08d6ae63",
   "metadata": {},
   "source": [
    "We also want to evaluate the performance on short sequences:"
   ]
  },
  {
   "cell_type": "code",
   "execution_count": 11,
   "id": "83df59ce",
   "metadata": {},
   "outputs": [
    {
     "data": {
      "text/markdown": [
       "```bash\n",
       "squigulator atotc.fasta -x dna-r10-prom -o atotc.slow5 -r 300 -n 100 --ont-friendly yes --seed 1729 && \n",
       "blue-crab s2p atotc.slow5 -o atotc_short.pod5 && \n",
       "rm -f atotc.slow5\n",
       "```"
      ],
      "text/plain": [
       "<IPython.core.display.Markdown object>"
      ]
     },
     "metadata": {},
     "output_type": "display_data"
    }
   ],
   "source": [
    "bash([\"squigulator atotc.fasta -x dna-r10-prom -o atotc.slow5 -r 300 -n 100 --ont-friendly yes --seed 1729\",\n",
    "      \"blue-crab s2p atotc.slow5 -o atotc_short.pod5\",\n",
    "      \"rm -f atotc.slow5\"])"
   ]
  }
 ],
 "metadata": {
  "kernelspec": {
   "display_name": "fenv",
   "language": "python",
   "name": "python3"
  },
  "language_info": {
   "codemirror_mode": {
    "name": "ipython",
    "version": 3
   },
   "file_extension": ".py",
   "mimetype": "text/x-python",
   "name": "python",
   "nbconvert_exporter": "python",
   "pygments_lexer": "ipython3",
   "version": "3.10.0"
  }
 },
 "nbformat": 4,
 "nbformat_minor": 5
}
