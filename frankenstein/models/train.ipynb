{
 "cells": [
  {
   "cell_type": "code",
   "execution_count": 41,
   "id": "896df5c4",
   "metadata": {},
   "outputs": [],
   "source": [
    "from IPython.display import Markdown, display\n",
    "bash = lambda commands: display(Markdown(\"```bash\\n\" + ' && \\n'.join(commands) + \"\\n```\"))\n",
    "fasta = \"/vol/bitbucket/bl1821/frankenstein/data/atotc.fasta\"\n",
    "pod5 = \"/vol/bitbucket/bl1821/frankenstein/data/atotc.pod5\"\n",
    "\n",
    "frank = \"/vol/bitbucket/bl1821/frankenstein/data/frank.fasta\"\n",
    "je = \"/vol/bitbucket/bl1821/frankenstein/data/je.fasta\""
   ]
  },
  {
   "cell_type": "markdown",
   "id": "2a50743d",
   "metadata": {},
   "source": [
    "# Baseline model\n",
    "\n",
    "We start with the **Bonito** `dna_r10.4.1_e8.2_400bps_sup@v5.0.0` model in the `bsup` folder. We export the bonito model to the dorado-compatible format by running the following script:"
   ]
  },
  {
   "cell_type": "code",
   "execution_count": 5,
   "id": "6592cc35",
   "metadata": {},
   "outputs": [
    {
     "data": {
      "text/markdown": [
       "```bash\n",
       "bonito export bsup --output dsup\n",
       "```"
      ],
      "text/plain": [
       "<IPython.core.display.Markdown object>"
      ]
     },
     "metadata": {},
     "output_type": "display_data"
    }
   ],
   "source": [
    "bash([\"bonito export bsup --output dsup\"])"
   ]
  },
  {
   "cell_type": "markdown",
   "id": "a63deec6",
   "metadata": {},
   "source": [
    "We perform the baseline test with dorado and atotc data to evaluate the baseline model performance:"
   ]
  },
  {
   "cell_type": "code",
   "execution_count": null,
   "id": "436b9f3b",
   "metadata": {},
   "outputs": [
    {
     "data": {
      "text/markdown": [
       "```bash\n",
       "mkdir -p tsup && \n",
       "cd tsup && \n",
       "dorado basecaller ../dsup /vol/bitbucket/bl1821/frankenstein/data/atotc.pod5 --reference /vol/bitbucket/bl1821/frankenstein/data/atotc.fasta > sup.bam 2> >(tee sup.log >&2) && \n",
       "dorado summary sup.bam > sup.tsv && \n",
       "cd ..\n",
       "```"
      ],
      "text/plain": [
       "<IPython.core.display.Markdown object>"
      ]
     },
     "metadata": {},
     "output_type": "display_data"
    }
   ],
   "source": [
    "bash([\"mkdir -p sup_test\",\n",
    "      \"cd sup_test\",\n",
    "      f\"dorado basecaller ../dsup {pod5} --reference {fasta} > sup.bam 2> >(tee sup.log >&2)\",\n",
    "      \"dorado summary sup.bam > sup.tsv\",\n",
    "      \"cd ..\"])"
   ]
  },
  {
   "cell_type": "markdown",
   "id": "fa7dd10a",
   "metadata": {},
   "source": [
    "# Improved model\n",
    "We prepare the `frank.pod5` with squigulator for 100000 reads of 300nt data."
   ]
  },
  {
   "cell_type": "code",
   "execution_count": 22,
   "id": "2d9af56e",
   "metadata": {},
   "outputs": [
    {
     "data": {
      "text/markdown": [
       "```bash\n",
       "mkdir -p train_data/frank && \n",
       "cd train_data && \n",
       "cp /vol/bitbucket/bl1821/frankenstein/data/frank.fasta . && \n",
       "squigulator frank.fasta -x dna-r10-prom -o frank.slow5 -n 100000 -r 300 --ont-friendly yes --seed 42 && \n",
       "blue-crab s2p frank.slow5 -o frank.pod5 && \n",
       "rm -f frank.slow5 && \n",
       "mv frank.pod5 frank/ && \n",
       "cd ..\n",
       "```"
      ],
      "text/plain": [
       "<IPython.core.display.Markdown object>"
      ]
     },
     "metadata": {},
     "output_type": "display_data"
    }
   ],
   "source": [
    "bash([\n",
    "  \"mkdir -p train_data/frank\",\n",
    "  \"cd train_data\",\n",
    "  f\"cp {frank} .\",\n",
    "  \"squigulator frank.fasta -x dna-r10-prom -o frank.slow5 -n 100000 -r 300 --ont-friendly yes --seed 42\",\n",
    "  \"blue-crab s2p frank.slow5 -o frank.pod5\",\n",
    "  \"rm -f frank.slow5\",\n",
    "  \"mv frank.pod5 frank/\",\n",
    "  \"cd ..\"\n",
    "])"
   ]
  },
  {
   "cell_type": "markdown",
   "id": "3ce18e67",
   "metadata": {},
   "source": [
    "We run the bonito basecaller with `--save-ctc` flag to obtain the training data from Frankenstein. We set the `--min-accuracy-save-ctc` flag to 0.9 since our current model accuracy is still low."
   ]
  },
  {
   "cell_type": "code",
   "execution_count": 19,
   "id": "383becb5",
   "metadata": {},
   "outputs": [
    {
     "data": {
      "text/markdown": [
       "```bash\n",
       "cd train_data && \n",
       "bonito basecaller ../bsup frank --reference frank.fasta --save-ctc --min-accuracy-save-ctc 0.9 > frank/frank.bam && \n",
       "cd ..\n",
       "```"
      ],
      "text/plain": [
       "<IPython.core.display.Markdown object>"
      ]
     },
     "metadata": {},
     "output_type": "display_data"
    }
   ],
   "source": [
    "bash([\n",
    "  \"cd train_data\",\n",
    "  \"bonito basecaller ../bsup frank --reference frank.fasta --save-ctc --min-accuracy-save-ctc 0.9 > frank/frank.bam\",\n",
    "  \"cd ..\"\n",
    "])"
   ]
  },
  {
   "cell_type": "markdown",
   "id": "92064d7b",
   "metadata": {},
   "source": [
    "We perform the training:"
   ]
  },
  {
   "cell_type": "code",
   "execution_count": 27,
   "id": "0588145a",
   "metadata": {},
   "outputs": [
    {
     "data": {
      "text/markdown": [
       "```bash\n",
       "bonito train bfrank --directory train_data/frank --epochs 5 --chunks 200 --valid-chunks 50 --pretrained bsup --batch 32\n",
       "```"
      ],
      "text/plain": [
       "<IPython.core.display.Markdown object>"
      ]
     },
     "metadata": {},
     "output_type": "display_data"
    }
   ],
   "source": [
    "bash([\"bonito train bfrank --directory train_data/frank --epochs 5 --chunks 200 --valid-chunks 50 --pretrained bsup --batch 32\"])"
   ]
  },
  {
   "cell_type": "markdown",
   "id": "d8284a34",
   "metadata": {},
   "source": [
    "We export the trained model:"
   ]
  },
  {
   "cell_type": "code",
   "execution_count": 28,
   "id": "2fe00dd1",
   "metadata": {},
   "outputs": [
    {
     "data": {
      "text/markdown": [
       "```bash\n",
       "bonito export bfrank --output dfrank\n",
       "```"
      ],
      "text/plain": [
       "<IPython.core.display.Markdown object>"
      ]
     },
     "metadata": {},
     "output_type": "display_data"
    }
   ],
   "source": [
    "bash([\"bonito export bfrank --output dfrank\"])"
   ]
  },
  {
   "cell_type": "markdown",
   "id": "24843fa0",
   "metadata": {},
   "source": [
    "And repeat the baseline test:"
   ]
  },
  {
   "cell_type": "code",
   "execution_count": 38,
   "id": "ba25594b",
   "metadata": {},
   "outputs": [
    {
     "data": {
      "text/markdown": [
       "```bash\n",
       "mkdir -p frank_test && \n",
       "cd frank_test && \n",
       "dorado basecaller ../dfrank /vol/bitbucket/bl1821/frankenstein/data/atotc.pod5 --reference /vol/bitbucket/bl1821/frankenstein/data/atotc.fasta > sup.bam 2> >(tee sup.log >&2) && \n",
       "dorado summary sup.bam > sup.tsv && \n",
       "cd ..\n",
       "```"
      ],
      "text/plain": [
       "<IPython.core.display.Markdown object>"
      ]
     },
     "metadata": {},
     "output_type": "display_data"
    }
   ],
   "source": [
    "bash([\"mkdir -p frank_test\",\n",
    "      \"cd frank_test\",\n",
    "      f\"dorado basecaller ../dfrank {pod5} --reference {fasta} > sup.bam 2> >(tee sup.log >&2)\",\n",
    "      \"dorado summary sup.bam > sup.tsv\",\n",
    "      \"cd ..\"])"
   ]
  },
  {
   "cell_type": "markdown",
   "id": "a8bac0e7",
   "metadata": {},
   "source": [
    "# The JE model\n",
    "We now get the frank model as a better-performing version of the sup model. We can now use it to generate better training data."
   ]
  },
  {
   "cell_type": "code",
   "execution_count": 32,
   "id": "8fa2e0a6",
   "metadata": {},
   "outputs": [
    {
     "data": {
      "text/markdown": [
       "```bash\n",
       "mkdir -p train_data/je && \n",
       "cd train_data && \n",
       "cp /vol/bitbucket/bl1821/frankenstein/data/je.fasta . && \n",
       "squigulator je.fasta -x dna-r10-prom -o je.slow5 -n 100000 -r 300 --ont-friendly yes --seed 42 && \n",
       "blue-crab s2p je.slow5 -o je.pod5 && \n",
       "rm -f je.slow5 && \n",
       "mv je.pod5 je/ && \n",
       "cd ..\n",
       "```"
      ],
      "text/plain": [
       "<IPython.core.display.Markdown object>"
      ]
     },
     "metadata": {},
     "output_type": "display_data"
    }
   ],
   "source": [
    "bash([\n",
    "  \"mkdir -p train_data/je\",\n",
    "  \"cd train_data\",\n",
    "  f\"cp {je} .\",\n",
    "  \"squigulator je.fasta -x dna-r10-prom -o je.slow5 -n 100000 -r 300 --ont-friendly yes --seed 42\",\n",
    "  \"blue-crab s2p je.slow5 -o je.pod5\",\n",
    "  \"rm -f je.slow5\",\n",
    "  \"mv je.pod5 je/\",\n",
    "  \"cd ..\"\n",
    "])"
   ]
  },
  {
   "cell_type": "markdown",
   "id": "371cc62a",
   "metadata": {},
   "source": [
    "We obtain the training data from je, now with normal (0.99) ctc accuracy threshold:"
   ]
  },
  {
   "cell_type": "code",
   "execution_count": 33,
   "id": "039ffcf7",
   "metadata": {},
   "outputs": [
    {
     "data": {
      "text/markdown": [
       "```bash\n",
       "cd train_data && \n",
       "bonito basecaller ../bfrank je --reference je.fasta --save-ctc > je/je.bam && \n",
       "cd ..\n",
       "```"
      ],
      "text/plain": [
       "<IPython.core.display.Markdown object>"
      ]
     },
     "metadata": {},
     "output_type": "display_data"
    }
   ],
   "source": [
    "bash([\n",
    "  \"cd train_data\",\n",
    "  \"bonito basecaller ../bfrank je --reference je.fasta --save-ctc > je/je.bam\",\n",
    "  \"cd ..\"\n",
    "])"
   ]
  },
  {
   "cell_type": "markdown",
   "id": "55b28c95",
   "metadata": {},
   "source": [
    "And the training:"
   ]
  },
  {
   "cell_type": "code",
   "execution_count": 35,
   "id": "69f55e11",
   "metadata": {},
   "outputs": [
    {
     "data": {
      "text/markdown": [
       "```bash\n",
       "bonito train bje --directory train_data/je --epochs 5 --chunks 200 --valid-chunks 50 --pretrained bsup --batch 32\n",
       "```"
      ],
      "text/plain": [
       "<IPython.core.display.Markdown object>"
      ]
     },
     "metadata": {},
     "output_type": "display_data"
    }
   ],
   "source": [
    "bash([\"bonito train bje --directory train_data/je --epochs 5 --chunks 200 --valid-chunks 50 --pretrained bsup --batch 32\"])"
   ]
  },
  {
   "cell_type": "markdown",
   "id": "22bf795f",
   "metadata": {},
   "source": [
    "Export:"
   ]
  },
  {
   "cell_type": "code",
   "execution_count": 36,
   "id": "793f3e40",
   "metadata": {},
   "outputs": [
    {
     "data": {
      "text/markdown": [
       "```bash\n",
       "bonito export bje --output dje\n",
       "```"
      ],
      "text/plain": [
       "<IPython.core.display.Markdown object>"
      ]
     },
     "metadata": {},
     "output_type": "display_data"
    }
   ],
   "source": [
    "bash([\"bonito export bje --output dje\"])"
   ]
  },
  {
   "cell_type": "markdown",
   "id": "d674f53e",
   "metadata": {},
   "source": [
    "Baseline test:"
   ]
  },
  {
   "cell_type": "code",
   "execution_count": 39,
   "id": "c6c9ff5b",
   "metadata": {},
   "outputs": [
    {
     "data": {
      "text/markdown": [
       "```bash\n",
       "mkdir -p je_test && \n",
       "cd je_test && \n",
       "dorado basecaller ../dje /vol/bitbucket/bl1821/frankenstein/data/atotc.pod5 --reference /vol/bitbucket/bl1821/frankenstein/data/atotc.fasta > sup.bam 2> >(tee sup.log >&2) && \n",
       "dorado summary sup.bam > sup.tsv && \n",
       "cd ..\n",
       "```"
      ],
      "text/plain": [
       "<IPython.core.display.Markdown object>"
      ]
     },
     "metadata": {},
     "output_type": "display_data"
    }
   ],
   "source": [
    "bash([\"mkdir -p je_test\",\n",
    "      \"cd je_test\",\n",
    "      f\"dorado basecaller ../dje {pod5} --reference {fasta} > sup.bam 2> >(tee sup.log >&2)\",\n",
    "      \"dorado summary sup.bam > sup.tsv\",\n",
    "      \"cd ..\"])"
   ]
  },
  {
   "cell_type": "markdown",
   "id": "9d790f68",
   "metadata": {},
   "source": [
    "# Collection of results"
   ]
  },
  {
   "cell_type": "code",
   "execution_count": 69,
   "id": "3582ef0f",
   "metadata": {},
   "outputs": [],
   "source": [
    "import csv\n",
    "\n",
    "def tsv_dict(data_dir, speed):\n",
    "  with open(f'{data_dir}/{speed}.tsv', newline='') as f:\n",
    "    reader = csv.DictReader(f, delimiter='\\t')\n",
    "    return next(reader)\n",
    "\n",
    "def make_table(data, markdown=True):\n",
    "  # row_headers = sorted({key for inner in data.values() for key in inner})\n",
    "  row_headers = [\n",
    "    \"alignment_accuracy\", \"alignment_identity\", \n",
    "    \"alignment_genome_start\", \"alignment_genome_end\", \"alignment_strand_start\", \"alignment_strand_end\", \"alignment_strand_coverage\",\n",
    "    \"alignment_length\", \"alignment_num_aligned\", \"alignment_num_correct\", \"alignment_num_deletions\", \"alignment_num_insertions\", \"alignment_num_substitutions\",\n",
    "    ]\n",
    "\n",
    "  # Build markdown table\n",
    "  header_row = f\"| Metric | {' | '.join(data.keys())} |\"\n",
    "  separator_row = f\"|--------|{'|'.join(['--------'] * len(data))}|\"\n",
    "  data_rows = [\n",
    "    f\"| {key} | {' | '.join(str(data[name].get(key, '')) for name in data)} |\"\n",
    "    for key in row_headers\n",
    "  ]\n",
    "\n",
    "  table_md = \"\\n\".join([header_row, separator_row] + data_rows)\n",
    "\n",
    "  if markdown:\n",
    "    display(Markdown(table_md))\n",
    "  else:\n",
    "    print(table_md)\n",
    "    \n",
    "def make_table_switched(data, markdown=True):\n",
    "  # Select the metrics of interest\n",
    "  row_headers = [\n",
    "    \"alignment_accuracy\", \"alignment_identity\",\n",
    "    \"alignment_strand_coverage\",\n",
    "    \"alignment_num_correct\", \"alignment_num_deletions\", \"alignment_num_insertions\", \"alignment_num_substitutions\",\n",
    "  ]\n",
    "\n",
    "  # Prepare the new column headers (without 'alignment_' prefix)\n",
    "  col_headers = [header.replace('alignment_', '') for header in row_headers]\n",
    "\n",
    "  # Build the header row: \"Model | accuracy | identity | ...\"\n",
    "  header_row = f\"| Model | {' | '.join(col_headers)} |\"\n",
    "  separator_row = f\"|-------|{'|'.join(['--------'] * len(col_headers))}|\"\n",
    "\n",
    "  # Build each data row: model name | value1 | value2 | ...\n",
    "  data_rows = [\n",
    "    f\"| {model} | {' | '.join(str(data[model].get(key, '')) for key in row_headers)} |\"\n",
    "    for model in data\n",
    "  ]\n",
    "\n",
    "  table_md = \"\\n\".join([header_row, separator_row] + data_rows)\n",
    "\n",
    "  if markdown:\n",
    "    display(Markdown(table_md))\n",
    "  else:\n",
    "    print(table_md)"
   ]
  },
  {
   "cell_type": "code",
   "execution_count": 70,
   "id": "0edda729",
   "metadata": {},
   "outputs": [
    {
     "data": {
      "text/markdown": [
       "| Model | accuracy | identity | strand_coverage | num_correct | num_deletions | num_insertions | num_substitutions |\n",
       "|-------|--------|--------|--------|--------|--------|--------|--------|\n",
       "| sup | 0.910668 | 0.955673 | 0.999998 | 2877111 | 96271 | 52510 | 133448 |\n",
       "| frank | 0.991914 | 0.994825 | 0.987018 | 3044752 | 7025 | 1955 | 15840 |\n",
       "| je | 0.99658 | 0.999012 | 1 | 3096812 | 6957 | 607 | 3062 |"
      ],
      "text/plain": [
       "<IPython.core.display.Markdown object>"
      ]
     },
     "metadata": {},
     "output_type": "display_data"
    }
   ],
   "source": [
    "models = [\"sup\", \"frank\", \"je\"]\n",
    "data = {model: tsv_dict(f\"{model}_test\", \"sup\") for model in models}\n",
    "make_table_switched(data)"
   ]
  },
  {
   "cell_type": "markdown",
   "id": "15322172",
   "metadata": {},
   "source": [
    "# Model profiling"
   ]
  },
  {
   "cell_type": "code",
   "execution_count": 66,
   "id": "dc2fff1b",
   "metadata": {},
   "outputs": [
    {
     "name": "stdout",
     "output_type": "stream",
     "text": [
      "sup 78718162\n",
      "frank 78718162\n",
      "je 78718162\n"
     ]
    }
   ],
   "source": [
    "# Total parameters\n",
    "\n",
    "import os\n",
    "import torch\n",
    "\n",
    "for model in models:\n",
    "    path = f\"d{model}\"\n",
    "    total = 0\n",
    "    files = [file for file in os.listdir(path) if file.endswith('.tensor')]\n",
    "    for file in files:\n",
    "        module = torch.jit.load(os.path.join(path, file))\n",
    "        for param in module.parameters():\n",
    "            total += param.numel()\n",
    "    print(model, total)"
   ]
  },
  {
   "cell_type": "code",
   "execution_count": null,
   "id": "825054eb",
   "metadata": {},
   "outputs": [],
   "source": []
  }
 ],
 "metadata": {
  "kernelspec": {
   "display_name": "fenv",
   "language": "python",
   "name": "python3"
  },
  "language_info": {
   "codemirror_mode": {
    "name": "ipython",
    "version": 3
   },
   "file_extension": ".py",
   "mimetype": "text/x-python",
   "name": "python",
   "nbconvert_exporter": "python",
   "pygments_lexer": "ipython3",
   "version": "3.10.0"
  }
 },
 "nbformat": 4,
 "nbformat_minor": 5
}
